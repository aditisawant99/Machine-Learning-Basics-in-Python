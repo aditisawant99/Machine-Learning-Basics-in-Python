{
 "cells": [
  {
   "cell_type": "code",
   "execution_count": 1,
   "metadata": {},
   "outputs": [],
   "source": [
    "import numpy as np"
   ]
  },
  {
   "cell_type": "code",
   "execution_count": 2,
   "metadata": {},
   "outputs": [],
   "source": [
    "age = [10,23,45,67,89,45,32,34,67,34,21,76,90,43,27]"
   ]
  },
  {
   "cell_type": "markdown",
   "metadata": {},
   "source": [
    "#### Mean"
   ]
  },
  {
   "cell_type": "code",
   "execution_count": 3,
   "metadata": {},
   "outputs": [
    {
     "name": "stdout",
     "output_type": "stream",
     "text": [
      "46.86666666666667\n"
     ]
    }
   ],
   "source": [
    "mean = np.mean(age)\n",
    "print(mean)"
   ]
  },
  {
   "cell_type": "markdown",
   "metadata": {},
   "source": [
    "#### Median"
   ]
  },
  {
   "cell_type": "code",
   "execution_count": 4,
   "metadata": {},
   "outputs": [
    {
     "name": "stdout",
     "output_type": "stream",
     "text": [
      "43.0\n"
     ]
    }
   ],
   "source": [
    "median = np.median(age)\n",
    "print(median)"
   ]
  },
  {
   "cell_type": "markdown",
   "metadata": {},
   "source": [
    "#### Mode"
   ]
  },
  {
   "cell_type": "code",
   "execution_count": 5,
   "metadata": {},
   "outputs": [],
   "source": [
    "from scipy import stats"
   ]
  },
  {
   "cell_type": "code",
   "execution_count": 6,
   "metadata": {},
   "outputs": [
    {
     "name": "stdout",
     "output_type": "stream",
     "text": [
      "ModeResult(mode=array([34]), count=array([2]))\n"
     ]
    }
   ],
   "source": [
    "mode = stats.mode(age)\n",
    "print(mode)"
   ]
  },
  {
   "cell_type": "markdown",
   "metadata": {},
   "source": [
    "#### Standard Deviation"
   ]
  },
  {
   "cell_type": "code",
   "execution_count": 7,
   "metadata": {},
   "outputs": [
    {
     "name": "stdout",
     "output_type": "stream",
     "text": [
      "24.30601205920507\n"
     ]
    }
   ],
   "source": [
    "sd = np.std(age)\n",
    "print(sd)"
   ]
  },
  {
   "cell_type": "markdown",
   "metadata": {},
   "source": [
    "#### Variance"
   ]
  },
  {
   "cell_type": "code",
   "execution_count": 8,
   "metadata": {},
   "outputs": [
    {
     "name": "stdout",
     "output_type": "stream",
     "text": [
      "590.7822222222222\n"
     ]
    }
   ],
   "source": [
    "v = np.var(age)\n",
    "print(v)"
   ]
  },
  {
   "cell_type": "markdown",
   "metadata": {},
   "source": [
    "#### Percentile"
   ]
  },
  {
   "cell_type": "code",
   "execution_count": 9,
   "metadata": {},
   "outputs": [
    {
     "name": "stdout",
     "output_type": "stream",
     "text": [
      "67.0\n"
     ]
    }
   ],
   "source": [
    "# What is the age that 75% people are younger than?\n",
    "\n",
    "p = np.percentile(age,75)\n",
    "print(p)\n",
    "\n",
    "#75% people in the data set are younger than 67\n"
   ]
  },
  {
   "cell_type": "code",
   "execution_count": 10,
   "metadata": {},
   "outputs": [
    {
     "name": "stdout",
     "output_type": "stream",
     "text": [
      "50th percentile = 43.0\n",
      "Median = 43.0\n"
     ]
    }
   ],
   "source": [
    "#What is the age that 50% people are younger than?\n",
    "\n",
    "p50 = np.percentile(age,50)\n",
    "print(\"50th percentile = \" + str(p50))\n",
    "\n",
    "m = np.median(age)\n",
    "print(\"Median = \" + str(m))\n",
    "\n",
    "#50th percentile = median"
   ]
  },
  {
   "cell_type": "markdown",
   "metadata": {},
   "source": [
    "#### Data Distribution"
   ]
  },
  {
   "cell_type": "code",
   "execution_count": 11,
   "metadata": {},
   "outputs": [
    {
     "data": {
      "text/plain": [
       "array([9.91222771e+00, 4.79620905e+00, 1.26162347e-01, 7.98989075e-01,\n",
       "       7.36694384e+00, 6.58806274e+00, 8.92066504e+00, 5.51749646e+00,\n",
       "       7.54756894e+00, 4.33065953e+00, 7.50357874e+00, 8.40675064e+00,\n",
       "       3.80602397e+00, 7.34730628e+00, 3.79960817e+00, 5.83254439e+00,\n",
       "       5.16104751e+00, 8.21258885e+00, 1.00859574e+00, 6.10142877e+00,\n",
       "       1.04542474e+00, 1.97800023e+00, 2.92361825e+00, 2.71417790e+00,\n",
       "       7.38712771e-01, 4.33446955e+00, 8.68528995e+00, 2.67015694e+00,\n",
       "       1.30648050e+00, 8.35909352e+00, 3.79930251e+00, 3.85082652e+00,\n",
       "       4.61693442e+00, 7.58049446e+00, 2.71182420e+00, 7.55859924e-01,\n",
       "       3.81473579e+00, 6.78217871e+00, 1.13978521e+00, 4.03856234e+00,\n",
       "       4.55844456e+00, 4.54579663e-03, 6.33481425e+00, 3.10033656e+00,\n",
       "       7.46697976e+00, 6.73863832e+00, 8.20668661e-02, 9.96005872e+00,\n",
       "       2.26894151e+00, 4.59107559e+00, 5.89111169e-01, 7.92460488e-01,\n",
       "       6.63864445e+00, 3.85691667e+00, 6.55862861e-01, 3.53396174e+00,\n",
       "       6.85759895e+00, 9.16596456e+00, 1.30059182e+00, 1.59836315e+00,\n",
       "       1.51204282e+00, 7.62952982e+00, 5.08856856e+00, 3.27239652e+00,\n",
       "       4.85430175e+00, 5.41301635e+00, 5.10753930e+00, 7.90593506e+00,\n",
       "       3.16786563e+00, 4.70704819e+00, 3.50525372e+00, 3.06810583e+00,\n",
       "       4.27046053e+00, 3.36935899e-01, 5.38750392e+00, 2.73627177e+00,\n",
       "       3.15840038e+00, 3.84269642e+00, 1.60286747e+00, 9.23190316e+00,\n",
       "       3.85370339e+00, 2.35666532e+00, 1.92617948e+00, 5.32924398e+00,\n",
       "       2.44620434e+00, 4.92842109e+00, 3.59514098e+00, 1.96999297e+00,\n",
       "       3.35386619e+00, 6.61433201e+00, 6.83884576e+00, 4.33780647e+00,\n",
       "       8.43363862e+00, 4.22177277e-01, 1.62054690e+00, 8.68378249e+00,\n",
       "       5.45057954e+00, 1.46073958e+00, 9.47460756e+00, 7.38279367e+00])"
      ]
     },
     "execution_count": 11,
     "metadata": {},
     "output_type": "execute_result"
    }
   ],
   "source": [
    "# To create an array of 100 random numbers between 0 and 10\n",
    "r = np.random.uniform(0,10,100) #(start,stop,size)\n",
    "r"
   ]
  },
  {
   "cell_type": "markdown",
   "metadata": {},
   "source": [
    "#### Histogram"
   ]
  },
  {
   "cell_type": "code",
   "execution_count": 12,
   "metadata": {},
   "outputs": [],
   "source": [
    "import matplotlib.pyplot as plt"
   ]
  },
  {
   "cell_type": "code",
   "execution_count": 13,
   "metadata": {},
   "outputs": [
    {
     "data": {
      "image/png": "[encoded data removed]",
      "text/plain": [
       "<Figure size 432x288 with 1 Axes>"
      ]
     },
     "metadata": {
      "needs_background": "light"
     },
     "output_type": "display_data"
    }
   ],
   "source": [
    "r = np.random.uniform(0,10,200)\n",
    "plt.hist(r,10) #to draw histogram with 10 bars with range 0-1, 1-2, 2-3, 3-4, 4-5, 5-6, 6-7, 7-8, 8-9, 9-10 \n",
    "plt.show()"
   ]
  },
  {
   "cell_type": "code",
   "execution_count": 14,
   "metadata": {},
   "outputs": [
    {
     "data": {
      "image/png": "[encoded data removed]",
      "text/plain": [
       "<Figure size 432x288 with 1 Axes>"
      ]
     },
     "metadata": {
      "needs_background": "light"
     },
     "output_type": "display_data"
    }
   ],
   "source": [
    "# Big data distributions\n",
    "\n",
    "b = np.random.uniform(0,10, 100000)\n",
    "\n",
    "plt.hist(b,100)\n",
    "plt.show()"
   ]
  },
  {
   "cell_type": "markdown",
   "metadata": {},
   "source": [
    "#### Normal Data Distribution"
   ]
  },
  {
   "cell_type": "code",
   "execution_count": 15,
   "metadata": {},
   "outputs": [
    {
     "data": {
      "image/png": "[encoded data removed]",
      "text/plain": [
       "<Figure size 432x288 with 1 Axes>"
      ]
     },
     "metadata": {
      "needs_background": "light"
     },
     "output_type": "display_data"
    }
   ],
   "source": [
    "n = np.random.normal(10,2,1000000) #mean = 10, sd = 2, size = 1000000\n",
    "plt.hist(n,100)\n",
    "plt.show()"
   ]
  },
  {
   "cell_type": "markdown",
   "metadata": {},
   "source": [
    "### Scatterplot"
   ]
  },
  {
   "cell_type": "code",
   "execution_count": 16,
   "metadata": {
    "scrolled": true
   },
   "outputs": [
    {
     "data": {
      "image/png": "[encoded data removed]",
      "text/plain": [
       "<Figure size 432x288 with 1 Axes>"
      ]
     },
     "metadata": {
      "needs_background": "light"
     },
     "output_type": "display_data"
    }
   ],
   "source": [
    "height = [62,64,65.5,60.5,58,69,63,65,63.3]\n",
    "weight = [122.2,154.6,161.8,116.6,111,153.4,125.4,172.4,139.4] #length of both arrays should be equal\n",
    "\n",
    "plt.scatter(height,weight)\n",
    "plt.show()"
   ]
  },
  {
   "cell_type": "code",
   "execution_count": 17,
   "metadata": {},
   "outputs": [
    {
     "data": {
      "image/png": "[encoded data removed]",
      "text/plain": [
       "<Figure size 432x288 with 1 Axes>"
      ]
     },
     "metadata": {
      "needs_background": "light"
     },
     "output_type": "display_data"
    }
   ],
   "source": [
    "#Random data distributions\n",
    "\n",
    "x = np.random.normal(50,1,1000)\n",
    "y = np.random.normal(100,2,1000)\n",
    "\n",
    "plt.scatter(x,y)\n",
    "plt.show()"
   ]
  },
  {
   "cell_type": "markdown",
   "metadata": {},
   "source": [
    "## Regression"
   ]
  },
  {
   "cell_type": "markdown",
   "metadata": {},
   "source": [
    "## Linear Regression"
   ]
  },
  {
   "cell_type": "code",
   "execution_count": 18,
   "metadata": {},
   "outputs": [],
   "source": [
    "import numpy as np\n",
    "from scipy import stats\n",
    "import matplotlib.pyplot as plt"
   ]
  },
  {
   "cell_type": "code",
   "execution_count": 19,
   "metadata": {},
   "outputs": [],
   "source": [
    "height = [62,64,65.5,60.5,58,69,63,65,63.3]\n",
    "weight = [122.2,154.6,161.8,116.6,111,153.4,125.4,172.4,139.4] "
   ]
  },
  {
   "cell_type": "code",
   "execution_count": 20,
   "metadata": {},
   "outputs": [
    {
     "data": {
      "image/png": "[encoded data removed]",
      "text/plain": [
       "<Figure size 432x288 with 1 Axes>"
      ]
     },
     "metadata": {
      "needs_background": "light"
     },
     "output_type": "display_data"
    }
   ],
   "source": [
    "slope, intercept, r, p, std_err = stats.linregress(height,weight)\n",
    "\n",
    "def func(height):\n",
    "    return slope * height + intercept\n",
    "\n",
    "model = list(map(func,height))\n",
    "\n",
    "plt.scatter(height,weight)\n",
    "plt.plot(height, model)\n",
    "plt.show()"
   ]
  },
  {
   "cell_type": "code",
   "execution_count": 26,
   "metadata": {},
   "outputs": [
    {
     "name": "stdout",
     "output_type": "stream",
     "text": [
      "weight : 120.89139236199722\n",
      "slope : 5.570213489835843\n",
      "intercept : -213.32141702815338\n",
      "r : 0.7962754953868718\n",
      "p : 0.01023021873961579\n",
      "std_err : 1.599438617726747\n"
     ]
    }
   ],
   "source": [
    "#Predicting Future Values\n",
    "#E.g. To predict the weight when height is 60\n",
    "\n",
    "from scipy import stats\n",
    "\n",
    "height = [62,64,65.5,60.5,58,69,63,65,63.3]\n",
    "weight = [122.2,154.6,161.8,116.6,111,153.4,125.4,172.4,139.4] \n",
    "\n",
    "slope, intercept, r, p, std_err = stats.linregress(height,weight)\n",
    "\n",
    "def func(height):\n",
    "    return slope * height + intercept\n",
    "\n",
    "weight = func(60)\n",
    "\n",
    "print(\"weight : \" + str(weight))\n",
    "\n",
    "print(\"slope : \" + str(slope))\n",
    "print(\"intercept : \" + str(intercept))\n",
    "print(\"r : \" + str(r))\n",
    "print(\"p : \" + str(p))\n",
    "print(\"std_err : \" + str(std_err))\n"
   ]
  },
  {
   "cell_type": "markdown",
   "metadata": {},
   "source": [
    "### Polynomial Regression"
   ]
  },
  {
   "cell_type": "code",
   "execution_count": 34,
   "metadata": {},
   "outputs": [],
   "source": [
    "#20 cars pass a certain checkpoint\n",
    "#we have cars' speeds and time of the day(hour) passing through the checkpoint occurred\n",
    "# x-axis : hours of the day\n",
    "# y-axis : speed of the car\n",
    "\n"
   ]
  },
  {
   "cell_type": "code",
   "execution_count": 47,
   "metadata": {},
   "outputs": [
    {
     "data": {
      "image/png": "[encoded data removed]",
      "text/plain": [
       "<Figure size 432x288 with 1 Axes>"
      ]
     },
     "metadata": {
      "needs_background": "light"
     },
     "output_type": "display_data"
    }
   ],
   "source": [
    "#Scatter plot\n",
    "x = [1,2,3,4,5,6,7,8,9,10,11,12,13,14,15,16,17,19,20,21]\n",
    "y = [113,104,92,73,72,65,70,75,82,83,85,86,90,90,101,110,120,150,160,160]\n",
    "\n",
    "import matplotlib.pyplot as plt\n",
    "plt.xticks([2,4,6,8,10,12,14,16,18,20])\n",
    "plt.scatter(x,y)\n",
    "plt.show()\n",
    "\n"
   ]
  },
  {
   "cell_type": "code",
   "execution_count": 48,
   "metadata": {},
   "outputs": [
    {
     "data": {
      "image/png": "[encoded data removed]",
      "text/plain": [
       "<Figure size 432x288 with 1 Axes>"
      ]
     },
     "metadata": {
      "needs_background": "light"
     },
     "output_type": "display_data"
    }
   ],
   "source": [
    "#To draw line of polynomial regression\n",
    "\n",
    "import numpy as np\n",
    "import matplotlib.pyplot as plt\n",
    "\n",
    "model = np.poly1d(np.polyfit(x,y,3))\n",
    "line = np.linspace(1,21,100)\n",
    "\n",
    "plt.scatter(x,y)\n",
    "plt.xticks([2,4,6,8,10,12,14,16,18,20])\n",
    "plt.plot(line, model(line))\n",
    "plt.show()"
   ]
  },
  {
   "cell_type": "code",
   "execution_count": 49,
   "metadata": {},
   "outputs": [
    {
     "name": "stdout",
     "output_type": "stream",
     "text": [
      "R-squared : 0.9606649398875653\n",
      "0.94 shows a very good relationship. Hence, we can use polynomial regression for prediction.\n"
     ]
    }
   ],
   "source": [
    "#R-squared\n",
    "#How well does my data fit in a polynomial regression?\n",
    "\n",
    "import numpy as np\n",
    "from sklearn.metrics import r2_score\n",
    "\n",
    "x = [1,2,3,4,5,6,7,8,9,10,11,12,13,14,15,16,17,19,20,21]\n",
    "y = [113,104,92,73,72,65,70,75,82,83,85,86,90,90,101,110,120,150,160,160]\n",
    "\n",
    "model = np.poly1d(np.polyfit(x,y,3))\n",
    "print(\"R-squared : \" + str(r2_score(y, model(x))))\n",
    "\n",
    "print(\"0.94 shows a very good relationship. Hence, we can use polynomial regression for prediction.\")"
   ]
  },
  {
   "cell_type": "code",
   "execution_count": 50,
   "metadata": {},
   "outputs": [
    {
     "name": "stdout",
     "output_type": "stream",
     "text": [
      "Speed of car at 18 hours is 133.43737421842587\n"
     ]
    }
   ],
   "source": [
    "#To predict the speed of the car passing at 18 hours\n",
    "\n",
    "import numpy as np\n",
    "\n",
    "model = np.poly1d(np.polyfit(x,y,3))\n",
    "\n",
    "speed = model(18)\n",
    "print(\"Speed of car at 18 hours is \" + str(speed))\n"
   ]
  },
  {
   "cell_type": "markdown",
   "metadata": {},
   "source": [
    "### Multiple Regression"
   ]
  },
  {
   "cell_type": "code",
   "execution_count": 53,
   "metadata": {},
   "outputs": [
    {
     "data": {
      "text/plain": [
       "'C:\\\\Users\\\\aditi\\\\My python\\\\CSK'"
      ]
     },
     "execution_count": 53,
     "metadata": {},
     "output_type": "execute_result"
    }
   ],
   "source": [
    "import os\n",
    "os.getcwd()"
   ]
  },
  {
   "cell_type": "code",
   "execution_count": 55,
   "metadata": {},
   "outputs": [
    {
     "name": "stdout",
     "output_type": "stream",
     "text": [
      "           Car       Model  Volume  Weight  CO2\n",
      "0       Toyoty        Aygo    1000     790   99\n",
      "1   Mitsubishi  Space Star    1200    1160   95\n",
      "2        Skoda      Citigo    1000     929   95\n",
      "3         Fiat         500     900     865   90\n",
      "4         Mini      Cooper    1500    1140  105\n",
      "5           VW         Up!    1000     929  105\n",
      "6        Skoda       Fabia    1400    1109   90\n",
      "7     Mercedes     A-Class    1500    1365   92\n",
      "8         Ford      Fiesta    1500    1112   98\n",
      "9         Audi          A1    1600    1150   99\n",
      "10     Hyundai         I20    1100     980   99\n",
      "11      Suzuki       Swift    1300     990  101\n",
      "12        Ford      Fiesta    1000    1112   99\n",
      "13       Honda       Civic    1600    1252   94\n",
      "14      Hundai         I30    1600    1326   97\n",
      "15        Opel       Astra    1600    1330   97\n",
      "16         BMW           1    1600    1365   99\n",
      "17       Mazda           3    2200    1280  104\n",
      "18       Skoda       Rapid    1600    1119  104\n",
      "19        Ford       Focus    2000    1328  105\n",
      "20        Ford      Mondeo    1600    1584   94\n",
      "21        Opel    Insignia    2000    1428   99\n",
      "22    Mercedes     C-Class    2100    1365   99\n",
      "23       Skoda     Octavia    1600    1415   99\n",
      "24       Volvo         S60    2000    1415   99\n",
      "25    Mercedes         CLA    1500    1465  102\n",
      "26        Audi          A4    2000    1490  104\n",
      "27        Audi          A6    2000    1725  114\n",
      "28       Volvo         V70    1600    1523  109\n",
      "29         BMW           5    2000    1705  114\n",
      "30    Mercedes     E-Class    2100    1605  115\n",
      "31       Volvo        XC70    2000    1746  117\n",
      "32        Ford       B-Max    1600    1235  104\n",
      "33         BMW         216    1600    1390  108\n",
      "34        Opel      Zafira    1600    1405  109\n",
      "35    Mercedes         SLK    2500    1395  120\n"
     ]
    }
   ],
   "source": [
    "import pandas as pd\n",
    "df = pd.read_csv('cars.csv')\n",
    "print(df)"
   ]
  },
  {
   "cell_type": "code",
   "execution_count": 56,
   "metadata": {},
   "outputs": [],
   "source": [
    "#independent variables\n",
    "X = df[['Weight','Volume']]\n",
    "#dependent variables\n",
    "y = df[['CO2']]"
   ]
  },
  {
   "cell_type": "code",
   "execution_count": 57,
   "metadata": {},
   "outputs": [],
   "source": [
    "from sklearn import linear_model"
   ]
  },
  {
   "cell_type": "code",
   "execution_count": 59,
   "metadata": {},
   "outputs": [
    {
     "data": {
      "text/plain": [
       "LinearRegression(copy_X=True, fit_intercept=True, n_jobs=None, normalize=False)"
      ]
     },
     "execution_count": 59,
     "metadata": {},
     "output_type": "execute_result"
    }
   ],
   "source": [
    "reg = linear_model.LinearRegression() #method to create a linear regression object\n",
    "reg.fit(X,y)  #takes the independent and dependent values as parameters and fills \n",
    "             #the regression object with data that describes the relationship"
   ]
  },
  {
   "cell_type": "code",
   "execution_count": 75,
   "metadata": {},
   "outputs": [
    {
     "name": "stdout",
     "output_type": "stream",
     "text": [
      "[[102.60187136]]\n",
      "We have predicted that a car with 1 liter engine, and a weight of 2000 Kg, will release approximately 102 grams of CO2 for every kilometer it drives.\n"
     ]
    }
   ],
   "source": [
    "#To predict C02 emission of cars based on their weight and volume\n",
    "predCO2 = reg.predict([[2000,1000]])  #weight = 2000 Kg, Volume = 1000 cm^3\n",
    "print(predCO2)\n",
    "\n",
    "print(\"We have predicted that a car with 1 liter engine, and a weight of 2000 Kg, will release approximately 102 grams of CO2 for every kilometer it drives.\")"
   ]
  },
  {
   "cell_type": "code",
   "execution_count": 72,
   "metadata": {},
   "outputs": [
    {
     "name": "stdout",
     "output_type": "stream",
     "text": [
      "[[0.00755095 0.00780526]]\n",
      "\n",
      "\n",
      "Coefficient value of Weight : 0.0075509472703006895\n",
      "Coefficient value of Volume : 0.007805257527747127\n",
      "\n",
      "\n",
      "If the weight increases by 1kg, the CO2 emission increases by 0.00755095g and if the engine size (Volume) increases by 1 cm3, the CO2 emission increases by 0.00780526 g.\n"
     ]
    }
   ],
   "source": [
    "#Coefficient values of Regression objects\n",
    "\n",
    "print(reg.coef_)\n",
    "print(\"\\n\")\n",
    "print(\"Coefficient value of Weight : \" + str(reg.coef_[0,0]))\n",
    "print(\"Coefficient value of Volume : \" + str(reg.coef_[0,1]))\n",
    "print(\"\\n\")\n",
    "print(\"If the weight increases by 1kg, the CO2 emission increases by 0.00755095g and if the engine size (Volume) increases by 1 cm3, the CO2 emission increases by 0.00780526 g.\")\n"
   ]
  },
  {
   "cell_type": "code",
   "execution_count": 77,
   "metadata": {},
   "outputs": [
    {
     "name": "stdout",
     "output_type": "stream",
     "text": [
      "[[110.15281863]]\n",
      "\n",
      "\n",
      "102.60187136 + (1000 * 0.00755095) = 110.15281863\n"
     ]
    }
   ],
   "source": [
    "#Testing the above example\n",
    "import pandas as pd\n",
    "\n",
    "df = pd.read_csv('cars.csv')\n",
    "\n",
    "X = df[['Weight','Volume']]\n",
    "y = df[['CO2']]\n",
    "\n",
    "from sklearn import linear_model\n",
    "\n",
    "reg = linear_model.LinearRegression()\n",
    "reg.fit(X,y) \n",
    "\n",
    "#increase the weight by 1000\n",
    "\n",
    "predCO2 = reg.predict([[3000,1000]])  #weight = 3000 Kg, Volume = 1000 cm^3\n",
    "print(predCO2)\n",
    "print(\"\\n\")\n",
    "print(\"102.60187136 + (1000 * 0.00755095) = 110.15281863\")"
   ]
  },
  {
   "cell_type": "code",
   "execution_count": null,
   "metadata": {},
   "outputs": [],
   "source": []
  }
 ],
 "metadata": {
  "kernelspec": {
   "display_name": "Python 3",
   "language": "python",
   "name": "python3"
  },
  "language_info": {
   "codemirror_mode": {
    "name": "ipython",
    "version": 3
   },
   "file_extension": ".py",
   "mimetype": "text/x-python",
   "name": "python",
   "nbconvert_exporter": "python",
   "pygments_lexer": "ipython3",
   "version": "3.8.8"
  }
 },
 "nbformat": 4,
 "nbformat_minor": 4
}
