{
 "cells": [
  {
   "cell_type": "markdown",
   "metadata": {},
   "source": [
    "### Scale"
   ]
  },
  {
   "cell_type": "code",
   "execution_count": 6,
   "metadata": {},
   "outputs": [],
   "source": [
    "import pandas as pd\n",
    "from sklearn import linear_model\n",
    "from sklearn.preprocessing import StandardScaler"
   ]
  },
  {
   "cell_type": "code",
   "execution_count": 20,
   "metadata": {},
   "outputs": [
    {
     "name": "stdout",
     "output_type": "stream",
     "text": [
      "           Car       Model  Volume  Weight  CO2\n",
      "0       Toyota        Aygo     1.0     790   99\n",
      "1   Mitsubishi  Space Star     1.2    1160   95\n",
      "2        Skoda      Citigo     1.0     929   95\n",
      "3         Fiat         500     0.9     865   90\n",
      "4         Mini      Cooper     1.5    1140  105\n",
      "5           VW         Up!     1.0     929  105\n",
      "6        Skoda       Fabia     1.4    1109   90\n",
      "7     Mercedes     A-Class     1.5    1365   92\n",
      "8         Ford      Fiesta     1.5    1112   98\n",
      "9         Audi          A1     1.6    1150   99\n",
      "10     Hyundai         I20     1.1     980   99\n",
      "11      Suzuki       Swift     1.3     990  101\n",
      "12        Ford      Fiesta     1.0    1112   99\n",
      "13       Honda       Civic     1.6    1252   94\n",
      "14      Hundai         I30     1.6    1326   97\n",
      "15        Opel       Astra     1.6    1330   97\n",
      "16         BMW           1     1.6    1365   99\n",
      "17       Mazda           3     2.2    1280  104\n",
      "18       Skoda       Rapid     1.6    1119  104\n",
      "19        Ford       Focus     2.0    1328  105\n",
      "20        Ford      Mondeo     1.6    1584   94\n",
      "21        Opel    Insignia     2.0    1428   99\n",
      "22    Mercedes     C-Class     2.1    1365   99\n",
      "23       Skoda     Octavia     1.6    1415   99\n",
      "24       Volvo         S60     2.0    1415   99\n",
      "25    Mercedes         CLA     1.5    1465  102\n",
      "26        Audi          A4     2.0    1490  104\n",
      "27        Audi          A6     2.0    1725  114\n",
      "28       Volvo         V70     1.6    1523  109\n",
      "29         BMW           5     2.0    1705  114\n",
      "30    Mercedes     E-Class     2.1    1605  115\n",
      "31       Volvo        XC70     2.0    1746  117\n",
      "32        Ford       B-Max     1.6    1235  104\n",
      "33         BMW           2     1.6    1390  108\n",
      "34        Opel      Zafira     1.6    1405  109\n",
      "35    Mercedes         SLK     2.5    1395  120\n"
     ]
    }
   ],
   "source": [
    "data = pd.read_excel('cars2.2.xlsx')\n",
    "print(data)"
   ]
  },
  {
   "cell_type": "code",
   "execution_count": 22,
   "metadata": {},
   "outputs": [
    {
     "name": "stdout",
     "output_type": "stream",
     "text": [
      "[[-2.10389253 -1.59336644]\n",
      " [-0.55407235 -1.07190106]\n",
      " [-1.52166278 -1.59336644]\n",
      " [-1.78973979 -1.85409913]\n",
      " [-0.63784641 -0.28970299]\n",
      " [-1.52166278 -1.59336644]\n",
      " [-0.76769621 -0.55043568]\n",
      " [ 0.3046118  -0.28970299]\n",
      " [-0.7551301  -0.28970299]\n",
      " [-0.59595938 -0.0289703 ]\n",
      " [-1.30803892 -1.33263375]\n",
      " [-1.26615189 -0.81116837]\n",
      " [-0.7551301  -1.59336644]\n",
      " [-0.16871166 -0.0289703 ]\n",
      " [ 0.14125238 -0.0289703 ]\n",
      " [ 0.15800719 -0.0289703 ]\n",
      " [ 0.3046118  -0.0289703 ]\n",
      " [-0.05142797  1.53542584]\n",
      " [-0.72580918 -0.0289703 ]\n",
      " [ 0.14962979  1.01396046]\n",
      " [ 1.2219378  -0.0289703 ]\n",
      " [ 0.5685001   1.01396046]\n",
      " [ 0.3046118   1.27469315]\n",
      " [ 0.51404696 -0.0289703 ]\n",
      " [ 0.51404696  1.01396046]\n",
      " [ 0.72348212 -0.28970299]\n",
      " [ 0.8281997   1.01396046]\n",
      " [ 1.81254495  1.01396046]\n",
      " [ 0.96642691 -0.0289703 ]\n",
      " [ 1.72877089  1.01396046]\n",
      " [ 1.30990057  1.27469315]\n",
      " [ 1.90050772  1.01396046]\n",
      " [-0.23991961 -0.0289703 ]\n",
      " [ 0.40932938 -0.0289703 ]\n",
      " [ 0.47215993 -0.0289703 ]\n",
      " [ 0.4302729   2.31762392]]\n"
     ]
    }
   ],
   "source": [
    "scale = StandardScaler()\n",
    "X = data[['Weight','Volume']]\n",
    "scaledX = scale.fit_transform(X)\n",
    "print(scaledX)"
   ]
  },
  {
   "cell_type": "code",
   "execution_count": 28,
   "metadata": {},
   "outputs": [
    {
     "name": "stdout",
     "output_type": "stream",
     "text": [
      "[107.2087328]\n"
     ]
    }
   ],
   "source": [
    "#Predict CO2 Values\n",
    "#Predict the CO2 emission from a 1.3 liter car that weighs 2300 kilograms:\n",
    "\n",
    "import pandas as pd\n",
    "from sklearn import linear_model\n",
    "from sklearn.preprocessing import StandardScaler\n",
    "\n",
    "scale = StandardScaler()\n",
    "\n",
    "data = pd.read_excel(\"cars2.2.xlsx\")\n",
    "\n",
    "X = data[['Weight','Volume']]\n",
    "y = data['CO2']\n",
    "\n",
    "scaledX = scale.fit_transform(X)\n",
    "\n",
    "regr = linear_model.LinearRegression()\n",
    "regr.fit(scaledX,y)\n",
    "\n",
    "scaled = scale.transform([[2300,1.3]])\n",
    "\n",
    "predictedCO2 = regr.predict([scaled[0]])\n",
    "print(predictedCO2)\n",
    "\n",
    "\n"
   ]
  },
  {
   "cell_type": "markdown",
   "metadata": {},
   "source": [
    "### Train/Test"
   ]
  },
  {
   "cell_type": "code",
   "execution_count": 34,
   "metadata": {},
   "outputs": [
    {
     "data": {
      "image/png": "[encoded data removed]",
      "text/plain": [
       "<Figure size 432x288 with 1 Axes>"
      ]
     },
     "metadata": {
      "needs_background": "light"
     },
     "output_type": "display_data"
    }
   ],
   "source": [
    "#Evaluate your model\n",
    "#Our data set illustrates 100 customers in a shop, and their shopping habits.\n",
    "\n",
    "import numpy as np\n",
    "import matplotlib.pyplot as plt\n",
    "np.random.seed(2)\n",
    "\n",
    "x = np.random.normal(3,1,100)\n",
    "y = np.random.normal(150,40,100)/x\n",
    "\n",
    "plt.scatter(x,y)\n",
    "plt.xlabel('number of minutes before making a purchase')\n",
    "plt.ylabel('amount of money spent on the purchase')\n",
    "plt.show()\n"
   ]
  },
  {
   "cell_type": "code",
   "execution_count": 37,
   "metadata": {},
   "outputs": [],
   "source": [
    "#Split Into Train/Test\n",
    "\n",
    "#The training set should be a random selection of 80% of the original data.\n",
    "#The testing set should be the remaining 20%.\n",
    "\n",
    "train_x = x[:80]\n",
    "train_y = y[:80]\n",
    "\n",
    "test_x = x[80:]\n",
    "test_y = y[80:]\n"
   ]
  },
  {
   "cell_type": "code",
   "execution_count": 39,
   "metadata": {},
   "outputs": [
    {
     "data": {
      "image/png": "[encoded data removed]",
      "text/plain": [
       "<Figure size 432x288 with 1 Axes>"
      ]
     },
     "metadata": {
      "needs_background": "light"
     },
     "output_type": "display_data"
    }
   ],
   "source": [
    "#Display the Training Set\n",
    "\n",
    "plt.scatter(train_x,train_y)\n",
    "plt.show()\n",
    "\n",
    "#It looks like the original data set, so it seems to be a fair selection:\n"
   ]
  },
  {
   "cell_type": "code",
   "execution_count": 40,
   "metadata": {},
   "outputs": [
    {
     "data": {
      "image/png": "[encoded data removed]",
      "text/plain": [
       "<Figure size 432x288 with 1 Axes>"
      ]
     },
     "metadata": {
      "needs_background": "light"
     },
     "output_type": "display_data"
    }
   ],
   "source": [
    "#Display the Testing Set\n",
    "\n",
    "plt.scatter(test_x,test_y)\n",
    "plt.show()"
   ]
  },
  {
   "cell_type": "code",
   "execution_count": 42,
   "metadata": {},
   "outputs": [
    {
     "data": {
      "image/png": "[encoded data removed]",
      "text/plain": [
       "<Figure size 432x288 with 1 Axes>"
      ]
     },
     "metadata": {
      "needs_background": "light"
     },
     "output_type": "display_data"
    }
   ],
   "source": [
    "#Fit the Data Set\n",
    "#To draw a line through the data points, we use the plot() method of the matplotlib module:\n",
    "\n",
    "#Draw a polynomial regression line through the data points:\n",
    "\n",
    "import numpy as np\n",
    "import matplotlib.pyplot as plt\n",
    "np.random.seed(2)\n",
    "\n",
    "x = np.random.normal(3,1,100)\n",
    "y = np.random.normal(150,40,100)/x\n",
    "\n",
    "train_x = x[:80]\n",
    "train_y = y[:80]\n",
    "\n",
    "test_x = x[80:]\n",
    "test_y = y[80:]\n",
    "\n",
    "mymodel = np.poly1d(np.polyfit(train_x,train_y,4))\n",
    "myline = np.linspace(0,6,100)\n",
    "\n",
    "plt.scatter(train_x,train_y)\n",
    "plt.plot(myline,mymodel(myline))\n",
    "plt.show()\n",
    "\n"
   ]
  },
  {
   "cell_type": "code",
   "execution_count": 44,
   "metadata": {},
   "outputs": [
    {
     "name": "stdout",
     "output_type": "stream",
     "text": [
      "0.79886455446298\n",
      "The result 0.799 shows that there is a OK relationship.\n"
     ]
    }
   ],
   "source": [
    "#R2\n",
    "\n",
    "import numpy as np\n",
    "from sklearn.metrics import r2_score\n",
    "np.random.seed(2)\n",
    "\n",
    "x = np.random.normal(3,1,100)\n",
    "y = np.random.normal(150,40,100) / x\n",
    "\n",
    "train_x = x[:80]\n",
    "train_y = y[:80]\n",
    "\n",
    "test_x = x[80:]\n",
    "test_y = y[80:]\n",
    "\n",
    "mymodel = np.poly1d(np.polyfit(train_x,train_y,4))\n",
    "\n",
    "r2 = r2_score(train_y, mymodel(train_x))\n",
    "\n",
    "print(r2)\n",
    "print(\"The result 0.799 shows that there is a OK relationship.\")"
   ]
  },
  {
   "cell_type": "code",
   "execution_count": 47,
   "metadata": {},
   "outputs": [
    {
     "name": "stdout",
     "output_type": "stream",
     "text": [
      "0.8086921460343733\n",
      "The result 0.809 shows that the model fits the testing set as well, and we are confident that we can use the model to predict future values.\n"
     ]
    }
   ],
   "source": [
    "## Bring in the Testing Set\n",
    "\n",
    "#Let us find the R2 score when using testing data:\n",
    "\n",
    "mymodel = np.poly1d(np.polyfit(train_x, train_y, 4))\n",
    "r2 = r2_score(test_y, mymodel(test_x))\n",
    "print(r2)\n",
    "print(\"The result 0.809 shows that the model fits the testing set as well, and we are confident that we can use the model to predict future values.\")"
   ]
  },
  {
   "cell_type": "code",
   "execution_count": 48,
   "metadata": {},
   "outputs": [
    {
     "name": "stdout",
     "output_type": "stream",
     "text": [
      "22.879625918124816\n"
     ]
    }
   ],
   "source": [
    "#Predict Values\n",
    "\n",
    "#How much money will a buying customer spend, if she or he stays in the shop for 5 minutes?\n",
    "\n",
    "print(mymodel(5))"
   ]
  },
  {
   "cell_type": "markdown",
   "metadata": {},
   "source": [
    "### Decision Tree"
   ]
  },
  {
   "cell_type": "code",
   "execution_count": null,
   "metadata": {},
   "outputs": [],
   "source": [
    "#A Decision Tree is a Flow Chart, and can help you make decisions based on previous experience.\n"
   ]
  },
  {
   "cell_type": "code",
   "execution_count": null,
   "metadata": {},
   "outputs": [],
   "source": [
    "#In the example, a person will try to decide if he/she should go to a comedy show or not.\n",
    "#every time there was a comedy show in town, \n",
    "#and registered some information about the comedian, and also registered if he/she went or not.\n",
    "\n",
    "#Python can create a decision tree that can be used to decide if any new shows are worth attending to."
   ]
  },
  {
   "cell_type": "code",
   "execution_count": 10,
   "metadata": {},
   "outputs": [],
   "source": [
    "import pandas as pd\n",
    "from sklearn import tree\n",
    "from sklearn.tree import DecisionTreeClassifier\n",
    "import pydotplus\n",
    "import matplotlib.pyplot as plt\n",
    "import matplotlib.image as pltimg"
   ]
  },
  {
   "cell_type": "code",
   "execution_count": 2,
   "metadata": {},
   "outputs": [
    {
     "name": "stdout",
     "output_type": "stream",
     "text": [
      "    Age  Experience  Rank Nationality   Go\n",
      "0    36          10     9          UK   NO\n",
      "1    42          12     4         USA   NO\n",
      "2    23           4     6           N   NO\n",
      "3    52           4     4         USA   NO\n",
      "4    43          21     8         USA  YES\n",
      "5    44          14     5          UK   NO\n",
      "6    66           3     7           N  YES\n",
      "7    35          14     9          UK  YES\n",
      "8    52          13     7           N  YES\n",
      "9    35           5     9           N  YES\n",
      "10   24           3     5         USA   NO\n",
      "11   18           3     7          UK  YES\n",
      "12   45           9     9          UK  YES\n"
     ]
    }
   ],
   "source": [
    "df = pd.read_excel(\"Decision tree - comedy show.xlsx\")\n",
    "print(df)"
   ]
  },
  {
   "cell_type": "code",
   "execution_count": 3,
   "metadata": {},
   "outputs": [
    {
     "name": "stdout",
     "output_type": "stream",
     "text": [
      "    Age  Experience  Rank  Nationality  Go\n",
      "0    36          10     9            0   0\n",
      "1    42          12     4            1   0\n",
      "2    23           4     6            2   0\n",
      "3    52           4     4            1   0\n",
      "4    43          21     8            1   1\n",
      "5    44          14     5            0   0\n",
      "6    66           3     7            2   1\n",
      "7    35          14     9            0   1\n",
      "8    52          13     7            2   1\n",
      "9    35           5     9            2   1\n",
      "10   24           3     5            1   0\n",
      "11   18           3     7            0   1\n",
      "12   45           9     9            0   1\n"
     ]
    }
   ],
   "source": [
    "#To make a decision tree, all data has to be numerical.\n",
    "#To convert columns 'Nationality' and 'Go' into numerical values\n",
    "#Pandas map() method - takes a dictionary with info on how to convert the values\n",
    "\n",
    "d = {'UK':0, 'USA':1, 'N':2}\n",
    "df['Nationality'] = df['Nationality'].map(d)\n",
    "\n",
    "d = {'YES':1, 'NO':0}\n",
    "df['Go'] = df['Go'].map(d)\n",
    "\n",
    "print(df)"
   ]
  },
  {
   "cell_type": "code",
   "execution_count": 4,
   "metadata": {},
   "outputs": [
    {
     "name": "stdout",
     "output_type": "stream",
     "text": [
      "    Age  Experience  Rank  Nationality\n",
      "0    36          10     9            0\n",
      "1    42          12     4            1\n",
      "2    23           4     6            2\n",
      "3    52           4     4            1\n",
      "4    43          21     8            1\n",
      "5    44          14     5            0\n",
      "6    66           3     7            2\n",
      "7    35          14     9            0\n",
      "8    52          13     7            2\n",
      "9    35           5     9            2\n",
      "10   24           3     5            1\n",
      "11   18           3     7            0\n",
      "12   45           9     9            0\n",
      "0     0\n",
      "1     0\n",
      "2     0\n",
      "3     0\n",
      "4     1\n",
      "5     0\n",
      "6     1\n",
      "7     1\n",
      "8     1\n",
      "9     1\n",
      "10    0\n",
      "11    1\n",
      "12    1\n",
      "Name: Go, dtype: int64\n"
     ]
    }
   ],
   "source": [
    "#to separate the feature columns from the target column.\n",
    "features = ['Age','Experience','Rank','Nationality']\n",
    "\n",
    "X = df[features]\n",
    "y = df['Go']\n",
    "print(X)\n",
    "print(y)"
   ]
  },
  {
   "cell_type": "code",
   "execution_count": 19,
   "metadata": {},
   "outputs": [
    {
     "data": {
      "image/png": "[encoded data removed]",
      "text/plain": [
       "<Figure size 1080x1080 with 1 Axes>"
      ]
     },
     "metadata": {
      "needs_background": "light"
     },
     "output_type": "display_data"
    }
   ],
   "source": [
    "#Create a Decision Tree, save it as an image, and show the image:\n",
    "\n",
    "dtree = DecisionTreeClassifier()\n",
    "dtree = dtree.fit(X,y)\n",
    "data = tree.export_graphviz(dtree, out_file = None, feature_names=features)\n",
    "graph = pydotplus.graph_from_dot_data(data)\n",
    "\n",
    "graph.write_png('mydecisiontree.png')\n",
    "\n",
    "plt.figure(figsize=(15,15))\n",
    "\n",
    "img = pltimg.imread('mydecisiontree.png')\n",
    "imgplot = plt.imshow(img)\n",
    "plt.show()"
   ]
  },
  {
   "cell_type": "markdown",
   "metadata": {},
   "source": [
    "## Results :\n",
    "The decision tree uses your earlier decisions to calculate the odds for you to wanting to go see a comedian or not.\n",
    "\n",
    "### Rank :\n"
   ]
  }
 ],
 "metadata": {
  "kernelspec": {
   "display_name": "Python 3",
   "language": "python",
   "name": "python3"
  },
  "language_info": {
   "codemirror_mode": {
    "name": "ipython",
    "version": 3
   },
   "file_extension": ".py",
   "mimetype": "text/x-python",
   "name": "python",
   "nbconvert_exporter": "python",
   "pygments_lexer": "ipython3",
   "version": "3.8.8"
  }
 },
 "nbformat": 4,
 "nbformat_minor": 4
}
