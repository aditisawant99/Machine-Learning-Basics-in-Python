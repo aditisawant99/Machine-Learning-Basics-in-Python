{
 "cells": [
  {
   "cell_type": "markdown",
   "metadata": {},
   "source": [
    "### Scale"
   ]
  },
  {
   "cell_type": "code",
   "execution_count": 6,
   "metadata": {},
   "outputs": [],
   "source": [
    "import pandas as pd\n",
    "from sklearn import linear_model\n",
    "from sklearn.preprocessing import StandardScaler"
   ]
  },
  {
   "cell_type": "code",
   "execution_count": 20,
   "metadata": {},
   "outputs": [
    {
     "name": "stdout",
     "output_type": "stream",
     "text": [
      "           Car       Model  Volume  Weight  CO2\n",
      "0       Toyota        Aygo     1.0     790   99\n",
      "1   Mitsubishi  Space Star     1.2    1160   95\n",
      "2        Skoda      Citigo     1.0     929   95\n",
      "3         Fiat         500     0.9     865   90\n",
      "4         Mini      Cooper     1.5    1140  105\n",
      "5           VW         Up!     1.0     929  105\n",
      "6        Skoda       Fabia     1.4    1109   90\n",
      "7     Mercedes     A-Class     1.5    1365   92\n",
      "8         Ford      Fiesta     1.5    1112   98\n",
      "9         Audi          A1     1.6    1150   99\n",
      "10     Hyundai         I20     1.1     980   99\n",
      "11      Suzuki       Swift     1.3     990  101\n",
      "12        Ford      Fiesta     1.0    1112   99\n",
      "13       Honda       Civic     1.6    1252   94\n",
      "14      Hundai         I30     1.6    1326   97\n",
      "15        Opel       Astra     1.6    1330   97\n",
      "16         BMW           1     1.6    1365   99\n",
      "17       Mazda           3     2.2    1280  104\n",
      "18       Skoda       Rapid     1.6    1119  104\n",
      "19        Ford       Focus     2.0    1328  105\n",
      "20        Ford      Mondeo     1.6    1584   94\n",
      "21        Opel    Insignia     2.0    1428   99\n",
      "22    Mercedes     C-Class     2.1    1365   99\n",
      "23       Skoda     Octavia     1.6    1415   99\n",
      "24       Volvo         S60     2.0    1415   99\n",
      "25    Mercedes         CLA     1.5    1465  102\n",
      "26        Audi          A4     2.0    1490  104\n",
      "27        Audi          A6     2.0    1725  114\n",
      "28       Volvo         V70     1.6    1523  109\n",
      "29         BMW           5     2.0    1705  114\n",
      "30    Mercedes     E-Class     2.1    1605  115\n",
      "31       Volvo        XC70     2.0    1746  117\n",
      "32        Ford       B-Max     1.6    1235  104\n",
      "33         BMW           2     1.6    1390  108\n",
      "34        Opel      Zafira     1.6    1405  109\n",
      "35    Mercedes         SLK     2.5    1395  120\n"
     ]
    }
   ],
   "source": [
    "data = pd.read_excel('cars2.2.xlsx')\n",
    "print(data)"
   ]
  },
  {
   "cell_type": "code",
   "execution_count": 22,
   "metadata": {},
   "outputs": [
    {
     "name": "stdout",
     "output_type": "stream",
     "text": [
      "[[-2.10389253 -1.59336644]\n",
      " [-0.55407235 -1.07190106]\n",
      " [-1.52166278 -1.59336644]\n",
      " [-1.78973979 -1.85409913]\n",
      " [-0.63784641 -0.28970299]\n",
      " [-1.52166278 -1.59336644]\n",
      " [-0.76769621 -0.55043568]\n",
      " [ 0.3046118  -0.28970299]\n",
      " [-0.7551301  -0.28970299]\n",
      " [-0.59595938 -0.0289703 ]\n",
      " [-1.30803892 -1.33263375]\n",
      " [-1.26615189 -0.81116837]\n",
      " [-0.7551301  -1.59336644]\n",
      " [-0.16871166 -0.0289703 ]\n",
      " [ 0.14125238 -0.0289703 ]\n",
      " [ 0.15800719 -0.0289703 ]\n",
      " [ 0.3046118  -0.0289703 ]\n",
      " [-0.05142797  1.53542584]\n",
      " [-0.72580918 -0.0289703 ]\n",
      " [ 0.14962979  1.01396046]\n",
      " [ 1.2219378  -0.0289703 ]\n",
      " [ 0.5685001   1.01396046]\n",
      " [ 0.3046118   1.27469315]\n",
      " [ 0.51404696 -0.0289703 ]\n",
      " [ 0.51404696  1.01396046]\n",
      " [ 0.72348212 -0.28970299]\n",
      " [ 0.8281997   1.01396046]\n",
      " [ 1.81254495  1.01396046]\n",
      " [ 0.96642691 -0.0289703 ]\n",
      " [ 1.72877089  1.01396046]\n",
      " [ 1.30990057  1.27469315]\n",
      " [ 1.90050772  1.01396046]\n",
      " [-0.23991961 -0.0289703 ]\n",
      " [ 0.40932938 -0.0289703 ]\n",
      " [ 0.47215993 -0.0289703 ]\n",
      " [ 0.4302729   2.31762392]]\n"
     ]
    }
   ],
   "source": [
    "scale = StandardScaler()\n",
    "X = data[['Weight','Volume']]\n",
    "scaledX = scale.fit_transform(X)\n",
    "print(scaledX)"
   ]
  },
  {
   "cell_type": "code",
   "execution_count": 28,
   "metadata": {},
   "outputs": [
    {
     "name": "stdout",
     "output_type": "stream",
     "text": [
      "[107.2087328]\n"
     ]
    }
   ],
   "source": [
    "#Predict CO2 Values\n",
    "#Predict the CO2 emission from a 1.3 liter car that weighs 2300 kilograms:\n",
    "\n",
    "import pandas as pd\n",
    "from sklearn import linear_model\n",
    "from sklearn.preprocessing import StandardScaler\n",
    "\n",
    "scale = StandardScaler()\n",
    "\n",
    "data = pd.read_excel(\"cars2.2.xlsx\")\n",
    "\n",
    "X = data[['Weight','Volume']]\n",
    "y = data['CO2']\n",
    "\n",
    "scaledX = scale.fit_transform(X)\n",
    "\n",
    "regr = linear_model.LinearRegression()\n",
    "regr.fit(scaledX,y)\n",
    "\n",
    "scaled = scale.transform([[2300,1.3]])\n",
    "\n",
    "predictedCO2 = regr.predict([scaled[0]])\n",
    "print(predictedCO2)\n",
    "\n",
    "\n"
   ]
  },
  {
   "cell_type": "markdown",
   "metadata": {},
   "source": [
    "### Train/Test"
   ]
  },
  {
   "cell_type": "code",
   "execution_count": 34,
   "metadata": {},
   "outputs": [
    {
     "data": {
      "image/png": "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\n",
      "text/plain": [
       "<Figure size 432x288 with 1 Axes>"
      ]
     },
     "metadata": {
      "needs_background": "light"
     },
     "output_type": "display_data"
    }
   ],
   "source": [
    "#Evaluate your model\n",
    "#Our data set illustrates 100 customers in a shop, and their shopping habits.\n",
    "\n",
    "import numpy as np\n",
    "import matplotlib.pyplot as plt\n",
    "np.random.seed(2)\n",
    "\n",
    "x = np.random.normal(3,1,100)\n",
    "y = np.random.normal(150,40,100)/x\n",
    "\n",
    "plt.scatter(x,y)\n",
    "plt.xlabel('number of minutes before making a purchase')\n",
    "plt.ylabel('amount of money spent on the purchase')\n",
    "plt.show()\n"
   ]
  },
  {
   "cell_type": "code",
   "execution_count": 37,
   "metadata": {},
   "outputs": [],
   "source": [
    "#Split Into Train/Test\n",
    "\n",
    "#The training set should be a random selection of 80% of the original data.\n",
    "#The testing set should be the remaining 20%.\n",
    "\n",
    "train_x = x[:80]\n",
    "train_y = y[:80]\n",
    "\n",
    "test_x = x[80:]\n",
    "test_y = y[80:]\n"
   ]
  },
  {
   "cell_type": "code",
   "execution_count": 39,
   "metadata": {},
   "outputs": [
    {
     "data": {
      "image/png": "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\n",
      "text/plain": [
       "<Figure size 432x288 with 1 Axes>"
      ]
     },
     "metadata": {
      "needs_background": "light"
     },
     "output_type": "display_data"
    }
   ],
   "source": [
    "#Display the Training Set\n",
    "\n",
    "plt.scatter(train_x,train_y)\n",
    "plt.show()\n",
    "\n",
    "#It looks like the original data set, so it seems to be a fair selection:\n"
   ]
  },
  {
   "cell_type": "code",
   "execution_count": 40,
   "metadata": {},
   "outputs": [
    {
     "data": {
      "image/png": "iVBORw0KGgoAAAANSUhEUgAAAXcAAAD4CAYAAAAXUaZHAAAABHNCSVQICAgIfAhkiAAAAAlwSFlzAAALEgAACxIB0t1+/AAAADh0RVh0U29mdHdhcmUAbWF0cGxvdGxpYiB2ZXJzaW9uMy4xLjMsIGh0dHA6Ly9tYXRwbG90bGliLm9yZy+AADFEAAAVBUlEQVR4nO3df7DddZ3f8edrQ7RptQ0ukYYADXbYTHV1CXuHocPosLptkN0BtGsL0yr+6GRtdapdJ12wM9XuTkem2dWO3akOLozYKisjMVKLZSm4MrtT2L0hkUAxK1jUJAyJ0IAdMhbiu3/c78XD5dzcc+8593zP/d7nY+bM/Z7P93vOeeeTOa/7vZ/v5/v9pqqQJHXLz7VdgCRp9Ax3Seogw12SOshwl6QOMtwlqYNOabsAgNNOO602b97cdhmStKLs2bPnR1W1od+6iQj3zZs3Mz093XYZkrSiJPn+fOsclpGkDjLcJamDDHdJ6iDDXZI6yHCXpA6aiNkyS7V77yF23nGAw8eOc8b6dezYtoUrtm5quyxJat2KDffdew9x7a79HH/uBACHjh3n2l37AQx4Saveih2W2XnHgReCfdbx506w844DLVUkSZNjxYb74WPHF9UuSavJig33M9avW1S7JK0mKzbcd2zbwrq1a17Utm7tGnZs29JSRZI0OVbsAdXZg6bOlpGkl1qx4Q4zAW+YS9JLrdhhGUnS/BYM9yRnJflmkoeTPJTkQ037q5LcmeS7zc9Tm/Yk+XSSR5I8kOT85f5HSJJebJA99+eBj1TV3wEuBD6Q5LXANcBdVXUucFfzHOCtwLnNYzvwmZFXLUk6qQXDvaoer6r7m+UfAw8Dm4DLgZuazW4CrmiWLwe+UDPuBdYn2TjyyiVJ81rUmHuSzcBW4D7g9Kp6HGZ+AQCvbjbbBPyw52UHm7a577U9yXSS6aNHjy6+cknSvAYO9ySvAG4FPlxVz5xs0z5t9ZKGquuraqqqpjZs6HsLQEnSEg0U7knWMhPsX6yqXU3zE7PDLc3PI037QeCsnpefCRweTbmSpEEMMlsmwA3Aw1X1yZ5VtwFXN8tXA1/raX9XM2vmQuDp2eEbSdJ4DHIS00XAO4H9SfY1bR8FrgNuSfI+4AfAO5p1twOXAo8AzwLvGWnFkqQFLRjuVfWn9B9HB3hLn+0L+MCQdUmShuAZqpLUQYa7JHWQ4S5JHWS4S1IHGe6S1EGGuyR1kOEuSR1kuEtSBxnuktRBhrskdZDhLkkdZLhLUgcZ7pLUQYa7JHWQ4S5JHWS4S1IHGe6S1EGD3EP1xiRHkjzY0/blJPuax2Ozt99LsjnJ8Z51n13O4iVJ/Q1yD9XPA38AfGG2oar+0exykt8Hnu7Z/tGqOm9UBUqSFm+Qe6jek2Rzv3VJAvxD4M2jLUuSNIxhx9zfCDxRVd/taTsnyd4k30ryxiHfX5K0BIMMy5zMVcDNPc8fB86uqieT/DKwO8nrquqZuS9Msh3YDnD22WcPWYYkqdeS99yTnAK8HfjybFtV/aSqnmyW9wCPAr/Q7/VVdX1VTVXV1IYNG5ZahiSpj2GGZX4V+E5VHZxtSLIhyZpm+TXAucD3hitRkrRYg0yFvBn4n8CWJAeTvK9ZdSUvHpIBeBPwQJJvA18B3l9VT42yYEnSwgaZLXPVPO3v7tN2K3Dr8GVJkobhGaqS1EGGuyR1kOEuSR1kuEtSBxnuktRBhrskdZDhLkkdZLhLUgcZ7pLUQYa7JHWQ4S5JHWS4S1IHGe6S1EGGuyR1kOEuSR1kuEtSBxnuktRBhrskddAg91C9McmRJA/2tH08yaEk+5rHpT3rrk3ySJIDSbYtV+GSpPkNsuf+eeCSPu2fqqrzmsftAEley8yNs1/XvOY/JVkzqmIlSYNZMNyr6h7gqQHf73Lgj6rqJ1X1v4FHgAuGqE+StATDjLl/MMkDzbDNqU3bJuCHPdscbNpeIsn2JNNJpo8ePTpEGZKkuZYa7p8B/jZwHvA48PtNe/psW/3eoKqur6qpqprasGHDEsuQJPWzpHCvqieq6kRV/RT4HD8bejkInNWz6ZnA4eFKlCQt1pLCPcnGnqdvA2Zn0twGXJnk5UnOAc4F/ny4EiVJi3XKQhskuRm4GDgtyUHgY8DFSc5jZsjlMeA3AarqoSS3AP8LeB74QFWdWJ7SJUnzSVXfIfGxmpqaqunp6bbLkKQVJcmeqprqt84zVCWpgwx3Seogw12SOshwl6QOMtwlqYMMd0nqIMNdkjrIcJekDjLcJamDDHdJ6iDDXZI6yHCXpA4y3CWpgwx3Seogw12SOshwl6QOMtwlqYMWDPckNyY5kuTBnradSb6T5IEkX02yvmnfnOR4kn3N47PLWbwkqb9B9tw/D1wyp+1O4Ber6g3AXwLX9qx7tKrOax7vH02ZkqTFWDDcq+oe4Kk5bX9cVc83T+8FzlyG2iRJSzSKMff3At/oeX5Okr1JvpXkjfO9KMn2JNNJpo8ePTqCMiRJs4YK9yT/Gnge+GLT9DhwdlVtBX4L+FKSv97vtVV1fVVNVdXUhg0bhilDkjTHksM9ydXArwP/uKoKoKp+UlVPNst7gEeBXxhFoZKkwS0p3JNcAvw2cFlVPdvTviHJmmb5NcC5wPdGUagkaXCnLLRBkpuBi4HTkhwEPsbM7JiXA3cmAbi3mRnzJuB3kjwPnADeX1VP9X1jSdKyWTDcq+qqPs03zLPtrcCtwxYlSRqOZ6hKUgcZ7pLUQYa7JHWQ4S5JHWS4S1IHGe6S1EGGuyR1kOEuSR1kuEtSBy14hqq6Z/feQ+y84wCHjx3njPXr2LFtC1ds3dR2WZJGyHBfZXbvPcS1u/Zz/LkTABw6dpxrd+0HMOClDnFYZpXZeceBF4J91vHnTrDzjgMtVSRpORjuq8zhY8cX1S5pZTLcV5kz1q9bVLuklclwX2V2bNvCurVrXtS2bu0admzb0lJFkpaDB1RXmdmDps6WkbrNcF+Frti6yTCXOm6gYZkkNyY5kuTBnrZXJbkzyXebn6c27Uny6SSPJHkgyfnLVbwkqb9Bx9w/D1wyp+0a4K6qOhe4q3kO8FZmbox9LrAd+MzwZUqSFmOgcK+qe4C5N7q+HLipWb4JuKKn/Qs1415gfZKNoyhWkjSYYWbLnF5VjwM0P1/dtG8Cftiz3cGmTZI0JssxFTJ92uolGyXbk0wnmT569OgylCFJq9cw4f7E7HBL8/NI034QOKtnuzOBw3NfXFXXV9VUVU1t2LBhiDIkSXMNE+63AVc3y1cDX+tpf1cza+ZC4OnZ4RtJ0ngMNM89yc3AxcBpSQ4CHwOuA25J8j7gB8A7ms1vBy4FHgGeBd4z4polSQsYKNyr6qp5Vr2lz7YFfGCYoiRJw/HaMpLUQYa7JHWQ4S5JHWS4S1IHGe6S1EGGuyR1kOEuSR1kuEtSBxnuktRBhrskdZDhLkkdZLhLUgcZ7pLUQQNdFVLLZ/feQ+y84wCHjx3njPXr2LFtC1ds9a6EkoZjuLdo995DXLtrP8efOwHAoWPHuXbXfgADXtJQHJZp0c47DrwQ7LOOP3eCnXccaKkiSV1huLfo8LHji2qXpEEZ7i06Y/26RbVL0qCWHO5JtiTZ1/N4JsmHk3w8yaGe9ktHWXCX7Ni2hXVr17yobd3aNezYtqWliiR1xZIPqFbVAeA8gCRrgEPAV5m5Ifanqur3RlJhh80eNHW2jKRRG9VsmbcAj1bV95OM6C1Xhyu2bjLMJY3cqML9SuDmnucfTPIuYBr4SFX9n7kvSLId2A5w9tlnj6gMafJ5boPGIVU13BskLwMOA6+rqieSnA78CCjgd4GNVfXek73H1NRUTU9PD1WHtBLMPbcBZo6zfOLtrzfgtWhJ9lTVVL91o5gt81bg/qp6AqCqnqiqE1X1U+BzwAUj+AxpIuzee4iLrrubc675b1x03d3s3ntoUa/33AaNyyiGZa6iZ0gmycaqerx5+jbgwRF8htS6UZxR7LkNGpeh9tyT/FXg7wG7epr/fZL9SR4AfgX4l8N8hjQpRrHX7bkNGpehwr2qnq2qn6+qp3va3llVr6+qN1TVZT178dKKNoq9bs9t0Lh4hqo0oFHsdV+xdROfePvr2bR+HQE2rV/nwVQtC68KKQ1ox7YtfWe6LHav23MbNA7uuUvzmDszBnCvWyuGe+5SH/PNjPnE21/Pn13z5parkxbmnrvUh/PRtdK55y71sRzz0b3sgMbJPXepj1HPR58d5jl07DjFz4Z5FnuGqzQow13qY9Tz0R3m0bg5LCP1Mepr7XvZAY2b4S7NY5Tz0c9Yv45DfYLcyw5ouTgsI42Blx3QuLnnLo1BF26p6GyflcVwl8ZkMcM8kxako7jc8aSatL4eFYdlpAkzidMmuzrbZxL7elQMd2nCTGKQdnW2zyT29agY7tKEmbQg3b33ED+X9F230mf7TFpfj5LhLk2YSbpb0+ywxYmql6zrwmyfSerrURs63JM81txWb1+S6abtVUnuTPLd5uepw5cqrQ6TNG2y37AFwJpkUZc7HvbG4stlkvp61Ea15/4rVXVeVU01z68B7qqqc4G7mueSBjBJd2uab3jip1WLCvZJPWg5SX09ass1FfJy4OJm+SbgT4DfXqbPkjpnUu7WNIoza0920HIS/o2T0tejNoo99wL+OMmeJNubttNnb4zd/Hz13Bcl2Z5kOsn00aNHR1CGpFEbxbBFlw9aTrJR7LlfVFWHk7wauDPJdwZ5UVVdD1wPMDU19dKjNZJa13tm7aFjx1mTvGiq4CB7vF5Xpx1D77lX1eHm5xHgq8AFwBNJNgI0P48M+zmS2nHF1k0v7MHPzppZzLh5Vw5aTupB4fkMFe5J/lqSV84uA38feBC4Dbi62exq4GvDfI6kdg1zsk8XDlpO8kHh+Qw7LHM68NXMnOBwCvClqvrvSf4CuCXJ+4AfAO8Y8nMktWjYcfOVftBy0g8K9zNUuFfV94Bf6tP+JPCWYd5b0uRY7ePmK/GgsGeoSlpQV8bNl2olnslquEtaUBfGzYexEn+5eT13SQNZ6ePmwzjZzVYm9XrwhrskDaDfL7dJvomJwzKStESTfD14w12SlmiSZ9EY7pK0RJM8i8Zwl6QlmuRZNB5QlbQiTcIslZPNommb4S5pxZmkWSqTOkXUcJdWmUnY4x3WJFzrZdL70XCXVpFJ2uMdRtuzVFZCP3pAVVpFJnle9mK0PUtlJfSj4S6tIm3v8Y5K27NUVkI/Gu7SKtL2Hu+otH0hs5XQj465S6vIjm1bXjRWDJMzL3ux2pylMmw/juNgrOEurSKTPC97JRmmH8d1MDbV3PC2TVNTUzU9Pd12GZK07C667u6+d7XatH4df3bNmxf1Xkn2VNVUv3VLHnNPclaSbyZ5OMlDST7UtH88yaEk+5rHpUv9DEnqmnEdjB1mWOZ54CNVdX+SVwJ7ktzZrPtUVf3e8OVJUreM6360S95zr6rHq+r+ZvnHwMOAA3eSdBLjmsY5kqmQSTYDW4H7mqYPJnkgyY1JTp3nNduTTCeZPnr06CjKkKSJN65pnEMfUE3yCuBbwL+rql1JTgd+BBTwu8DGqnrvyd7DA6qSum45pj+e7IDqUFMhk6wFbgW+WFW7AKrqiZ71nwO+PsxnSNJK18a1aIaZLRPgBuDhqvpkT/vGns3eBjy49PIkaeVr41o0w+y5XwS8E9ifZF/T9lHgqiTnMTMs8xjwm0NVKEkrXBvXollyuFfVnwLps+r2pZcjSd0zrumPvbxwmCQtszauYum1ZSRpmbVxTR/DXZLGYNxXsXRYRpI6yHCXpA4y3CWpgwx3Seogw12SOmgi7sSU5Cjw/Z6m05i5+Niksr7hTXqNk14fTH6N1je8hWr8W1W1od+KiQj3uZJMz3els0lgfcOb9BonvT6Y/Bqtb3jD1OiwjCR1kOEuSR00qeF+fdsFLMD6hjfpNU56fTD5NVrf8JZc40SOuUuShjOpe+6SpCEY7pLUQa2Fe5JLkhxI8kiSa/qsf3eSo0n2NY9/Oub6bkxyJEnf2wRmxqeb+h9Icv446xuwxouTPN3Th/9mzPWdleSbSR5O8lCSD/XZprV+HLC+1vowyV9J8udJvt3U92/7bPPyJF9u+u++JJvHVd8iamz1u9zUsCbJ3iQvuadz2304QH1L67+qGvsDWAM8CrwGeBnwbeC1c7Z5N/AHbdTXfP6bgPOBB+dZfynwDWbuRnUhcN8E1ngx8PUW+3AjcH6z/ErgL/v8P7fWjwPW11ofNn3yimZ5LXAfcOGcbf458Nlm+UrgyxNYY6vf5aaG3wK+1O//su0+HKC+JfVfW3vuFwCPVNX3qur/AX8EXN5SLX1V1T3AUyfZ5HLgCzXjXmD9nJuDL7sBamxVVT1eVfc3yz8GHgbmXtC6tX4csL7WNH3yf5una5vH3BkQlwM3NctfAd7S3Lx+LAassVVJzgR+DfjDeTZptQ8HqG9J2gr3TcAPe54fpP+X6h80f6p/JclZ4yltYIP+G9r2d5s/mb+R5HVtFdH8qbuVmT27XhPRjyepD1rsw+bP9X3AEeDOqpq3/6rqeeBp4OcnrEZo97v8H4B/Bfx0nvVt9+FC9cES+q+tcO/3W3Hub/v/CmyuqjcA/4Of/WadFIP8G9p2PzPXnvgl4D8Cu9soIskrgFuBD1fVM3NX93nJWPtxgfpa7cOqOlFV5wFnAhck+cU5m7TefwPU2Np3OcmvA0eqas/JNuvTNpY+HLC+JfVfW+F+EOj97XMmcLh3g6p6sqp+0jz9HPDLY6ptUAv+G9pWVc/M/slcVbcDa5OcNs4akqxlJji/WFW7+mzSaj8uVN8k9GHz2ceAPwEumbPqhf5LcgrwN2hpqG6+Glv+Ll8EXJbkMWaGf9+c5L/M2abNPlywvqX2X1vh/hfAuUnOSfIyZg5i3Na7wZxx18uYGQ+dJLcB72pme1wIPF1Vj7ddVK8kf3N27DDJBcz8fz85xs8PcAPwcFV9cp7NWuvHQeprsw+TbEiyvlleB/wq8J05m90GXN0s/wZwdzVH4Salxja/y1V1bVWdWVWbmcmZu6vqn8zZrLU+HKS+pfZfKzfIrqrnk3wQuIOZmTM3VtVDSX4HmK6q24B/keQy4Hlmfou+e5w1JrmZmZkSpyU5CHyMmYNFVNVngduZmenxCPAs8J5x1jdgjb8B/LMkzwPHgSvH+cVnZq/kncD+ZkwW4KPA2T01ttmPg9TXZh9uBG5KsoaZXyq3VNXX53xPbgD+c5JHmPmeXDmm2hZTY6vf5X4mrA9fYhT95+UHJKmDPENVkjrIcJekDjLcJamDDHdJ6iDDXZI6yHCXpA4y3CWpg/4/E/zPv/X6AcAAAAAASUVORK5CYII=\n",
      "text/plain": [
       "<Figure size 432x288 with 1 Axes>"
      ]
     },
     "metadata": {
      "needs_background": "light"
     },
     "output_type": "display_data"
    }
   ],
   "source": [
    "#Display the Testing Set\n",
    "\n",
    "plt.scatter(test_x,test_y)\n",
    "plt.show()"
   ]
  },
  {
   "cell_type": "code",
   "execution_count": 42,
   "metadata": {},
   "outputs": [
    {
     "data": {
      "image/png": "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\n",
      "text/plain": [
       "<Figure size 432x288 with 1 Axes>"
      ]
     },
     "metadata": {
      "needs_background": "light"
     },
     "output_type": "display_data"
    }
   ],
   "source": [
    "#Fit the Data Set\n",
    "#To draw a line through the data points, we use the plot() method of the matplotlib module:\n",
    "\n",
    "#Draw a polynomial regression line through the data points:\n",
    "\n",
    "import numpy as np\n",
    "import matplotlib.pyplot as plt\n",
    "np.random.seed(2)\n",
    "\n",
    "x = np.random.normal(3,1,100)\n",
    "y = np.random.normal(150,40,100)/x\n",
    "\n",
    "train_x = x[:80]\n",
    "train_y = y[:80]\n",
    "\n",
    "test_x = x[80:]\n",
    "test_y = y[80:]\n",
    "\n",
    "mymodel = np.poly1d(np.polyfit(train_x,train_y,4))\n",
    "myline = np.linspace(0,6,100)\n",
    "\n",
    "plt.scatter(train_x,train_y)\n",
    "plt.plot(myline,mymodel(myline))\n",
    "plt.show()\n",
    "\n"
   ]
  },
  {
   "cell_type": "code",
   "execution_count": 44,
   "metadata": {},
   "outputs": [
    {
     "name": "stdout",
     "output_type": "stream",
     "text": [
      "0.79886455446298\n",
      "The result 0.799 shows that there is a OK relationship.\n"
     ]
    }
   ],
   "source": [
    "#R2\n",
    "\n",
    "import numpy as np\n",
    "from sklearn.metrics import r2_score\n",
    "np.random.seed(2)\n",
    "\n",
    "x = np.random.normal(3,1,100)\n",
    "y = np.random.normal(150,40,100) / x\n",
    "\n",
    "train_x = x[:80]\n",
    "train_y = y[:80]\n",
    "\n",
    "test_x = x[80:]\n",
    "test_y = y[80:]\n",
    "\n",
    "mymodel = np.poly1d(np.polyfit(train_x,train_y,4))\n",
    "\n",
    "r2 = r2_score(train_y, mymodel(train_x))\n",
    "\n",
    "print(r2)\n",
    "print(\"The result 0.799 shows that there is a OK relationship.\")"
   ]
  },
  {
   "cell_type": "code",
   "execution_count": 47,
   "metadata": {},
   "outputs": [
    {
     "name": "stdout",
     "output_type": "stream",
     "text": [
      "0.8086921460343733\n",
      "The result 0.809 shows that the model fits the testing set as well, and we are confident that we can use the model to predict future values.\n"
     ]
    }
   ],
   "source": [
    "## Bring in the Testing Set\n",
    "\n",
    "#Let us find the R2 score when using testing data:\n",
    "\n",
    "mymodel = np.poly1d(np.polyfit(train_x, train_y, 4))\n",
    "r2 = r2_score(test_y, mymodel(test_x))\n",
    "print(r2)\n",
    "print(\"The result 0.809 shows that the model fits the testing set as well, and we are confident that we can use the model to predict future values.\")"
   ]
  },
  {
   "cell_type": "code",
   "execution_count": 48,
   "metadata": {},
   "outputs": [
    {
     "name": "stdout",
     "output_type": "stream",
     "text": [
      "22.879625918124816\n"
     ]
    }
   ],
   "source": [
    "#Predict Values\n",
    "\n",
    "#How much money will a buying customer spend, if she or he stays in the shop for 5 minutes?\n",
    "\n",
    "print(mymodel(5))"
   ]
  },
  
